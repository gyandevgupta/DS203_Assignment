{
  "nbformat": 4,
  "nbformat_minor": 0,
  "metadata": {
    "colab": {
      "name": "190100051_A6_DS203.ipynb",
      "provenance": []
    },
    "kernelspec": {
      "name": "python3",
      "display_name": "Python 3"
    },
    "language_info": {
      "name": "python"
    }
  },
  "cells": [
    {
      "cell_type": "code",
      "metadata": {
        "id": "I_4VC6Zx8xyl"
      },
      "source": [
        "import numpy as np\n",
        "import pandas as pd\n",
        "from scipy.stats import entropy\n",
        "import sklearn.model_selection\n",
        "from sklearn import datasets, linear_model\n",
        "from sklearn.metrics import mean_squared_error, r2_score"
      ],
      "execution_count": 1,
      "outputs": []
    },
    {
      "cell_type": "markdown",
      "metadata": {
        "id": "rVLkmZkPNQ7u"
      },
      "source": [
        "1. Download the dataset from above shared link."
      ]
    },
    {
      "cell_type": "code",
      "metadata": {
        "id": "XnXO_E-J85Dr"
      },
      "source": [
        "url1 = \"https://raw.githubusercontent.com/gyandevgupta/DS203_Assignment/master/Real%20estate%20valuation%20data%20set.csv\""
      ],
      "execution_count": 2,
      "outputs": []
    },
    {
      "cell_type": "markdown",
      "metadata": {
        "id": "0p3jFTkiQBwW"
      },
      "source": [
        "2. Load the dataset into your python program and do pre-processing (remove the first row and\n",
        "first column as they are not useful)."
      ]
    },
    {
      "cell_type": "code",
      "metadata": {
        "colab": {
          "base_uri": "https://localhost:8080/",
          "height": 206
        },
        "id": "fUMCqZeX9EB6",
        "outputId": "14ac1721-52f7-4911-d4df-c68bbc5ad5b7"
      },
      "source": [
        "df = pd.read_csv(url1)\n",
        "df.head()"
      ],
      "execution_count": 3,
      "outputs": [
        {
          "output_type": "execute_result",
          "data": {
            "text/html": [
              "<div>\n",
              "<style scoped>\n",
              "    .dataframe tbody tr th:only-of-type {\n",
              "        vertical-align: middle;\n",
              "    }\n",
              "\n",
              "    .dataframe tbody tr th {\n",
              "        vertical-align: top;\n",
              "    }\n",
              "\n",
              "    .dataframe thead th {\n",
              "        text-align: right;\n",
              "    }\n",
              "</style>\n",
              "<table border=\"1\" class=\"dataframe\">\n",
              "  <thead>\n",
              "    <tr style=\"text-align: right;\">\n",
              "      <th></th>\n",
              "      <th>No</th>\n",
              "      <th>X1 transaction date</th>\n",
              "      <th>X2 house age</th>\n",
              "      <th>X3 distance to the nearest MRT station</th>\n",
              "      <th>X4 number of convenience stores</th>\n",
              "      <th>X5 latitude</th>\n",
              "      <th>X6 longitude</th>\n",
              "      <th>Y house price of unit area</th>\n",
              "    </tr>\n",
              "  </thead>\n",
              "  <tbody>\n",
              "    <tr>\n",
              "      <th>0</th>\n",
              "      <td>1</td>\n",
              "      <td>2012.917</td>\n",
              "      <td>32.0</td>\n",
              "      <td>84.87882</td>\n",
              "      <td>10</td>\n",
              "      <td>24.98298</td>\n",
              "      <td>121.54024</td>\n",
              "      <td>37.9</td>\n",
              "    </tr>\n",
              "    <tr>\n",
              "      <th>1</th>\n",
              "      <td>2</td>\n",
              "      <td>2012.917</td>\n",
              "      <td>19.5</td>\n",
              "      <td>306.59470</td>\n",
              "      <td>9</td>\n",
              "      <td>24.98034</td>\n",
              "      <td>121.53951</td>\n",
              "      <td>42.2</td>\n",
              "    </tr>\n",
              "    <tr>\n",
              "      <th>2</th>\n",
              "      <td>3</td>\n",
              "      <td>2013.583</td>\n",
              "      <td>13.3</td>\n",
              "      <td>561.98450</td>\n",
              "      <td>5</td>\n",
              "      <td>24.98746</td>\n",
              "      <td>121.54391</td>\n",
              "      <td>47.3</td>\n",
              "    </tr>\n",
              "    <tr>\n",
              "      <th>3</th>\n",
              "      <td>4</td>\n",
              "      <td>2013.500</td>\n",
              "      <td>13.3</td>\n",
              "      <td>561.98450</td>\n",
              "      <td>5</td>\n",
              "      <td>24.98746</td>\n",
              "      <td>121.54391</td>\n",
              "      <td>54.8</td>\n",
              "    </tr>\n",
              "    <tr>\n",
              "      <th>4</th>\n",
              "      <td>5</td>\n",
              "      <td>2012.833</td>\n",
              "      <td>5.0</td>\n",
              "      <td>390.56840</td>\n",
              "      <td>5</td>\n",
              "      <td>24.97937</td>\n",
              "      <td>121.54245</td>\n",
              "      <td>43.1</td>\n",
              "    </tr>\n",
              "  </tbody>\n",
              "</table>\n",
              "</div>"
            ],
            "text/plain": [
              "   No  X1 transaction date  ...  X6 longitude  Y house price of unit area\n",
              "0   1             2012.917  ...     121.54024                        37.9\n",
              "1   2             2012.917  ...     121.53951                        42.2\n",
              "2   3             2013.583  ...     121.54391                        47.3\n",
              "3   4             2013.500  ...     121.54391                        54.8\n",
              "4   5             2012.833  ...     121.54245                        43.1\n",
              "\n",
              "[5 rows x 8 columns]"
            ]
          },
          "metadata": {},
          "execution_count": 3
        }
      ]
    },
    {
      "cell_type": "code",
      "metadata": {
        "id": "RO5HWDi69nVW",
        "colab": {
          "base_uri": "https://localhost:8080/",
          "height": 363
        },
        "outputId": "e1ddb80d-1131-4256-bc0b-832d7b342eb2"
      },
      "source": [
        "#dropping column\n",
        "df.drop(df.columns[[0]], axis = 1, inplace = True)\n",
        "X = df.drop(columns=[\"Y house price of unit area\"])\n",
        "X.sample(n=10)"
      ],
      "execution_count": 4,
      "outputs": [
        {
          "output_type": "execute_result",
          "data": {
            "text/html": [
              "<div>\n",
              "<style scoped>\n",
              "    .dataframe tbody tr th:only-of-type {\n",
              "        vertical-align: middle;\n",
              "    }\n",
              "\n",
              "    .dataframe tbody tr th {\n",
              "        vertical-align: top;\n",
              "    }\n",
              "\n",
              "    .dataframe thead th {\n",
              "        text-align: right;\n",
              "    }\n",
              "</style>\n",
              "<table border=\"1\" class=\"dataframe\">\n",
              "  <thead>\n",
              "    <tr style=\"text-align: right;\">\n",
              "      <th></th>\n",
              "      <th>X1 transaction date</th>\n",
              "      <th>X2 house age</th>\n",
              "      <th>X3 distance to the nearest MRT station</th>\n",
              "      <th>X4 number of convenience stores</th>\n",
              "      <th>X5 latitude</th>\n",
              "      <th>X6 longitude</th>\n",
              "    </tr>\n",
              "  </thead>\n",
              "  <tbody>\n",
              "    <tr>\n",
              "      <th>329</th>\n",
              "      <td>2013.000</td>\n",
              "      <td>13.6</td>\n",
              "      <td>4197.34900</td>\n",
              "      <td>0</td>\n",
              "      <td>24.93885</td>\n",
              "      <td>121.50383</td>\n",
              "    </tr>\n",
              "    <tr>\n",
              "      <th>320</th>\n",
              "      <td>2012.750</td>\n",
              "      <td>13.5</td>\n",
              "      <td>4197.34900</td>\n",
              "      <td>0</td>\n",
              "      <td>24.93885</td>\n",
              "      <td>121.50383</td>\n",
              "    </tr>\n",
              "    <tr>\n",
              "      <th>41</th>\n",
              "      <td>2013.500</td>\n",
              "      <td>16.8</td>\n",
              "      <td>4066.58700</td>\n",
              "      <td>0</td>\n",
              "      <td>24.94297</td>\n",
              "      <td>121.50342</td>\n",
              "    </tr>\n",
              "    <tr>\n",
              "      <th>70</th>\n",
              "      <td>2013.583</td>\n",
              "      <td>6.6</td>\n",
              "      <td>90.45606</td>\n",
              "      <td>9</td>\n",
              "      <td>24.97433</td>\n",
              "      <td>121.54310</td>\n",
              "    </tr>\n",
              "    <tr>\n",
              "      <th>10</th>\n",
              "      <td>2013.083</td>\n",
              "      <td>34.8</td>\n",
              "      <td>405.21340</td>\n",
              "      <td>1</td>\n",
              "      <td>24.97349</td>\n",
              "      <td>121.53372</td>\n",
              "    </tr>\n",
              "    <tr>\n",
              "      <th>6</th>\n",
              "      <td>2012.667</td>\n",
              "      <td>34.5</td>\n",
              "      <td>623.47310</td>\n",
              "      <td>7</td>\n",
              "      <td>24.97933</td>\n",
              "      <td>121.53642</td>\n",
              "    </tr>\n",
              "    <tr>\n",
              "      <th>203</th>\n",
              "      <td>2012.667</td>\n",
              "      <td>15.6</td>\n",
              "      <td>289.32480</td>\n",
              "      <td>5</td>\n",
              "      <td>24.98203</td>\n",
              "      <td>121.54348</td>\n",
              "    </tr>\n",
              "    <tr>\n",
              "      <th>53</th>\n",
              "      <td>2013.083</td>\n",
              "      <td>13.3</td>\n",
              "      <td>492.23130</td>\n",
              "      <td>5</td>\n",
              "      <td>24.96515</td>\n",
              "      <td>121.53737</td>\n",
              "    </tr>\n",
              "    <tr>\n",
              "      <th>193</th>\n",
              "      <td>2013.417</td>\n",
              "      <td>9.7</td>\n",
              "      <td>421.47900</td>\n",
              "      <td>5</td>\n",
              "      <td>24.98246</td>\n",
              "      <td>121.54477</td>\n",
              "    </tr>\n",
              "    <tr>\n",
              "      <th>164</th>\n",
              "      <td>2012.833</td>\n",
              "      <td>0.0</td>\n",
              "      <td>185.42960</td>\n",
              "      <td>0</td>\n",
              "      <td>24.97110</td>\n",
              "      <td>121.53170</td>\n",
              "    </tr>\n",
              "  </tbody>\n",
              "</table>\n",
              "</div>"
            ],
            "text/plain": [
              "     X1 transaction date  X2 house age  ...  X5 latitude  X6 longitude\n",
              "329             2013.000          13.6  ...     24.93885     121.50383\n",
              "320             2012.750          13.5  ...     24.93885     121.50383\n",
              "41              2013.500          16.8  ...     24.94297     121.50342\n",
              "70              2013.583           6.6  ...     24.97433     121.54310\n",
              "10              2013.083          34.8  ...     24.97349     121.53372\n",
              "6               2012.667          34.5  ...     24.97933     121.53642\n",
              "203             2012.667          15.6  ...     24.98203     121.54348\n",
              "53              2013.083          13.3  ...     24.96515     121.53737\n",
              "193             2013.417           9.7  ...     24.98246     121.54477\n",
              "164             2012.833           0.0  ...     24.97110     121.53170\n",
              "\n",
              "[10 rows x 6 columns]"
            ]
          },
          "metadata": {},
          "execution_count": 4
        }
      ]
    },
    {
      "cell_type": "code",
      "metadata": {
        "colab": {
          "base_uri": "https://localhost:8080/",
          "height": 363
        },
        "id": "9KVxX8qg-UyG",
        "outputId": "0e0b6b03-96d6-4a25-b08f-d40caa2a45e3"
      },
      "source": [
        "Y = df[[\"Y house price of unit area\"]]\n",
        "Y.sample(n=10)"
      ],
      "execution_count": 5,
      "outputs": [
        {
          "output_type": "execute_result",
          "data": {
            "text/html": [
              "<div>\n",
              "<style scoped>\n",
              "    .dataframe tbody tr th:only-of-type {\n",
              "        vertical-align: middle;\n",
              "    }\n",
              "\n",
              "    .dataframe tbody tr th {\n",
              "        vertical-align: top;\n",
              "    }\n",
              "\n",
              "    .dataframe thead th {\n",
              "        text-align: right;\n",
              "    }\n",
              "</style>\n",
              "<table border=\"1\" class=\"dataframe\">\n",
              "  <thead>\n",
              "    <tr style=\"text-align: right;\">\n",
              "      <th></th>\n",
              "      <th>Y house price of unit area</th>\n",
              "    </tr>\n",
              "  </thead>\n",
              "  <tbody>\n",
              "    <tr>\n",
              "      <th>406</th>\n",
              "      <td>40.5</td>\n",
              "    </tr>\n",
              "    <tr>\n",
              "      <th>195</th>\n",
              "      <td>34.6</td>\n",
              "    </tr>\n",
              "    <tr>\n",
              "      <th>291</th>\n",
              "      <td>54.4</td>\n",
              "    </tr>\n",
              "    <tr>\n",
              "      <th>43</th>\n",
              "      <td>34.1</td>\n",
              "    </tr>\n",
              "    <tr>\n",
              "      <th>386</th>\n",
              "      <td>55.3</td>\n",
              "    </tr>\n",
              "    <tr>\n",
              "      <th>392</th>\n",
              "      <td>35.3</td>\n",
              "    </tr>\n",
              "    <tr>\n",
              "      <th>352</th>\n",
              "      <td>25.7</td>\n",
              "    </tr>\n",
              "    <tr>\n",
              "      <th>367</th>\n",
              "      <td>20.9</td>\n",
              "    </tr>\n",
              "    <tr>\n",
              "      <th>221</th>\n",
              "      <td>38.5</td>\n",
              "    </tr>\n",
              "    <tr>\n",
              "      <th>63</th>\n",
              "      <td>55.0</td>\n",
              "    </tr>\n",
              "  </tbody>\n",
              "</table>\n",
              "</div>"
            ],
            "text/plain": [
              "     Y house price of unit area\n",
              "406                        40.5\n",
              "195                        34.6\n",
              "291                        54.4\n",
              "43                         34.1\n",
              "386                        55.3\n",
              "392                        35.3\n",
              "352                        25.7\n",
              "367                        20.9\n",
              "221                        38.5\n",
              "63                         55.0"
            ]
          },
          "metadata": {},
          "execution_count": 5
        }
      ]
    },
    {
      "cell_type": "code",
      "metadata": {
        "id": "3-drhWTiLZI5"
      },
      "source": [
        "X = np.array(X)\n",
        "Y = np.array(Y)"
      ],
      "execution_count": 6,
      "outputs": []
    },
    {
      "cell_type": "markdown",
      "metadata": {
        "id": "bPdXl755Ngxm"
      },
      "source": [
        "3. Split loaded dataset into train and test dataset by keeping 80% samples in train dataset\n",
        "and remaining 20% samples in test dataset"
      ]
    },
    {
      "cell_type": "code",
      "metadata": {
        "id": "4pAxLc5M-DVb"
      },
      "source": [
        "X_train, X_test, y_train, y_test = sklearn.model_selection.train_test_split(X, Y, test_size=0.2)"
      ],
      "execution_count": 7,
      "outputs": []
    },
    {
      "cell_type": "markdown",
      "metadata": {
        "id": "s0SxGIH5Nm0w"
      },
      "source": [
        "4. Now train linear regression model on train dataset (note that the last column (house price)\n",
        "is the output).\n"
      ]
    },
    {
      "cell_type": "code",
      "metadata": {
        "colab": {
          "base_uri": "https://localhost:8080/"
        },
        "id": "ZBIh-hpsC3oa",
        "outputId": "5ba7e10e-6624-4e6f-c397-dfa5f50b322b"
      },
      "source": [
        "regressor = linear_model.LinearRegression()\n",
        "regressor.fit(X_train,y_train)"
      ],
      "execution_count": 8,
      "outputs": [
        {
          "output_type": "execute_result",
          "data": {
            "text/plain": [
              "LinearRegression(copy_X=True, fit_intercept=True, n_jobs=None, normalize=False)"
            ]
          },
          "metadata": {},
          "execution_count": 8
        }
      ]
    },
    {
      "cell_type": "markdown",
      "metadata": {
        "id": "1DWJeFxCNrVf"
      },
      "source": [
        "5. Report coefficients (weights corresponding to features) and intercept of trained model.\n",
        "\n"
      ]
    },
    {
      "cell_type": "code",
      "metadata": {
        "colab": {
          "base_uri": "https://localhost:8080/"
        },
        "id": "-uZuPiOnDZ6k",
        "outputId": "d608161d-a94f-4a3d-b2d3-83cc81e59fad"
      },
      "source": [
        "print('Coefficients: \\n', regressor.coef_)"
      ],
      "execution_count": 9,
      "outputs": [
        {
          "output_type": "stream",
          "name": "stdout",
          "text": [
            "Coefficients: \n",
            " [[ 5.20764322e+00 -2.80183573e-01 -4.90529057e-03  1.10532562e+00\n",
            "   1.95532821e+02 -2.69491098e+01]]\n"
          ]
        }
      ]
    },
    {
      "cell_type": "code",
      "metadata": {
        "colab": {
          "base_uri": "https://localhost:8080/"
        },
        "id": "jpq-le3DEfQg",
        "outputId": "4eb634ab-4019-403b-8a9b-c642eb206a46"
      },
      "source": [
        "print('Intercepts: \\n', regressor.intercept_)"
      ],
      "execution_count": 10,
      "outputs": [
        {
          "output_type": "stream",
          "name": "stdout",
          "text": [
            "Intercepts: \n",
            " [-12047.33297201]\n"
          ]
        }
      ]
    },
    {
      "cell_type": "markdown",
      "metadata": {
        "id": "CnbIRNofNurW"
      },
      "source": [
        "6. Predict price for every house (sample) in test dataset."
      ]
    },
    {
      "cell_type": "code",
      "metadata": {
        "id": "FBtH2q0tEvIU"
      },
      "source": [
        "y_predict = regressor.predict(X_test)"
      ],
      "execution_count": 11,
      "outputs": []
    },
    {
      "cell_type": "markdown",
      "metadata": {
        "id": "jq6shm-ANyhO"
      },
      "source": [
        "7. Compute mean squared error and r\n",
        "2\n",
        "value using predicted price and true price.\n"
      ]
    },
    {
      "cell_type": "code",
      "metadata": {
        "colab": {
          "base_uri": "https://localhost:8080/"
        },
        "id": "1O_I7LzzFz-R",
        "outputId": "d5d010da-e7cb-4259-f00c-6cf33189144c"
      },
      "source": [
        "print('Mean squared error: %.8f'\n",
        "      % mean_squared_error(y_test, y_predict))\n",
        "print('r2 value: %.8f'\n",
        "      % r2_score(y_test, y_predict))"
      ],
      "execution_count": 12,
      "outputs": [
        {
          "output_type": "stream",
          "name": "stdout",
          "text": [
            "Mean squared error: 53.11345280\n",
            "r2 value: 0.67146289\n"
          ]
        }
      ]
    },
    {
      "cell_type": "markdown",
      "metadata": {
        "id": "5ZCe7-f5N15A"
      },
      "source": [
        "8. Repeat Step 4-6 for following train and test split: 60:40, 70:30, and 90:10. Report mean\n",
        "squared error and r\n",
        "2\n",
        "value for each split.\n"
      ]
    },
    {
      "cell_type": "code",
      "metadata": {
        "colab": {
          "base_uri": "https://localhost:8080/"
        },
        "id": "_QnUz_DMG00z",
        "outputId": "e0bd35ce-b71e-4828-cab8-e5303a77b527"
      },
      "source": [
        "test_size_range = [0.4,0.3,0.1]\n",
        "for val in test_size_range:\n",
        "  X_train, X_test, y_train, y_test = sklearn.model_selection.train_test_split(X, Y, test_size= val)\n",
        "  regressor = linear_model.LinearRegression()\n",
        "  regressor.fit(X_train,y_train)\n",
        "  print('test size ratio :' +str(val) +\"\\n\")\n",
        "  print('Coefficients: ', regressor.coef_)\n",
        "  print('Intercepts: ', regressor.intercept_)\n",
        "  y_predict = regressor.predict(X_test)\n",
        "  print('Mean squared error: %.8f'\n",
        "        % mean_squared_error(y_test, y_predict))\n",
        "  print('r2 value: %.8f \\n'\n",
        "        % r2_score(y_test, y_predict))"
      ],
      "execution_count": 13,
      "outputs": [
        {
          "output_type": "stream",
          "name": "stdout",
          "text": [
            "test size ratio :0.4\n",
            "\n",
            "Coefficients:  [[ 3.31368742e+00 -3.09739396e-01 -3.75297064e-03  1.35284345e+00\n",
            "   2.46362228e+02  3.06741693e+01]]\n",
            "Intercepts:  [-16508.5665704]\n",
            "Mean squared error: 106.28968500\n",
            "r2 value: 0.44606387 \n",
            "\n",
            "test size ratio :0.3\n",
            "\n",
            "Coefficients:  [[ 4.77341073e+00 -2.92305046e-01 -5.53934387e-03  9.72360675e-01\n",
            "   2.06074142e+02 -4.68005315e+01]]\n",
            "Intercepts:  [-9022.16410429]\n",
            "Mean squared error: 61.16670540\n",
            "r2 value: 0.61913857 \n",
            "\n",
            "test size ratio :0.1\n",
            "\n",
            "Coefficients:  [[ 4.89915907e+00 -2.87211549e-01 -4.44317084e-03  1.20460092e+00\n",
            "   2.26186359e+02 -1.64635977e+01]]\n",
            "Intercepts:  [-13466.56969555]\n",
            "Mean squared error: 75.63160258\n",
            "r2 value: 0.47636314 \n",
            "\n"
          ]
        }
      ]
    },
    {
      "cell_type": "markdown",
      "metadata": {
        "id": "Zrq5NEu-kGW3"
      },
      "source": [
        "So the r2 value is highest and mean squared error is lowest for the test ratio 0.2 "
      ]
    },
    {
      "cell_type": "markdown",
      "metadata": {
        "id": "noB0tza6N40_"
      },
      "source": [
        "9. Use Ridge regression and Lasso models with following λ values (regularization parameter):\n",
        "0.001, 0.005, 0.01, 0.05, 0.1, and 0.5. Report mean squared error and r\n",
        "2\n",
        "value for each\n",
        "alpha value with all train and test split ratios given in Step 7.\n"
      ]
    },
    {
      "cell_type": "markdown",
      "metadata": {
        "id": "gskKM9JOhY6v"
      },
      "source": [
        "#### Ridge"
      ]
    },
    {
      "cell_type": "code",
      "metadata": {
        "colab": {
          "base_uri": "https://localhost:8080/"
        },
        "id": "_zjr-iCIJMOv",
        "outputId": "ea152908-add5-4732-87e7-e7126df7f473"
      },
      "source": [
        "alpha_range = [0.001,0.005,0.01,0.05,0.1,0.5]\n",
        "for val in alpha_range:\n",
        "  X_train, X_test, y_train, y_test = sklearn.model_selection.train_test_split(X, Y, test_size=0.4)\n",
        "  regressor = linear_model.Ridge(alpha = 0.001)\n",
        "  regressor.fit(X_train,y_train)\n",
        "  print('Case : alpha = ' + str(val) + '\\n')\n",
        "  print('Coefficients: ', regressor.coef_)\n",
        "  print('Intercepts: ', regressor.intercept_)\n",
        "  y_predict = regressor.predict(X_test)\n",
        "  print('Mean squared error: %.8f'\n",
        "        % mean_squared_error(y_test, y_predict))\n",
        "  print('r2 value: %.8f \\n'\n",
        "        % r2_score(y_test, y_predict))"
      ],
      "execution_count": 14,
      "outputs": [
        {
          "output_type": "stream",
          "name": "stdout",
          "text": [
            "Case : alpha = 0.001\n",
            "\n",
            "Coefficients:  [[ 5.86982746e+00 -2.96680433e-01 -4.23777848e-03  1.44156523e+00\n",
            "   2.09017745e+02  1.54982103e+01]]\n",
            "Intercepts:  [-18877.03963849]\n",
            "Mean squared error: 107.04327196\n",
            "r2 value: 0.39291696 \n",
            "\n",
            "Case : alpha = 0.005\n",
            "\n",
            "Coefficients:  [[ 6.02993378e+00 -2.73044152e-01 -5.65911120e-03  9.68126029e-01\n",
            "   1.87031212e+02 -4.93787175e+01]]\n",
            "Intercepts:  [-10763.01725677]\n",
            "Mean squared error: 64.14229920\n",
            "r2 value: 0.63544295 \n",
            "\n",
            "Case : alpha = 0.01\n",
            "\n",
            "Coefficients:  [[ 6.23930820e+00 -2.49023143e-01 -4.91131328e-03  1.06281747e+00\n",
            "   1.66956994e+02  1.49801058e+01]]\n",
            "Intercepts:  [-18506.18586297]\n",
            "Mean squared error: 65.21588328\n",
            "r2 value: 0.64094892 \n",
            "\n",
            "Case : alpha = 0.05\n",
            "\n",
            "Coefficients:  [[ 4.07064198e+00 -2.87096814e-01 -5.36159947e-03  1.20770010e+00\n",
            "   1.82259654e+02 -5.21871331e+01]]\n",
            "Intercepts:  [-6359.36940375]\n",
            "Mean squared error: 57.40824842\n",
            "r2 value: 0.62797334 \n",
            "\n",
            "Case : alpha = 0.1\n",
            "\n",
            "Coefficients:  [[ 4.24788001e+00 -2.69041110e-01 -5.46148222e-03  1.04531767e+00\n",
            "   2.05080292e+02 -4.76701870e+01]]\n",
            "Intercepts:  [-7834.54221257]\n",
            "Mean squared error: 63.80182397\n",
            "r2 value: 0.61323362 \n",
            "\n",
            "Case : alpha = 0.5\n",
            "\n",
            "Coefficients:  [[ 3.67412878e+00 -2.44856335e-01 -3.47532161e-03  1.25585223e+00\n",
            "   3.12002911e+02  4.25356400e+01]]\n",
            "Intercepts:  [-20315.43690008]\n",
            "Mean squared error: 113.54393551\n",
            "r2 value: 0.46151250 \n",
            "\n"
          ]
        }
      ]
    },
    {
      "cell_type": "markdown",
      "metadata": {
        "id": "_dsG2aRqkfvJ"
      },
      "source": [
        "In ridge, highest r2 value is for alpha = 0.01 and lowest mean squared error is for alpha = 0.001 but here the MSE is very high"
      ]
    },
    {
      "cell_type": "markdown",
      "metadata": {
        "id": "mJVDhIalhcN4"
      },
      "source": [
        "#### Lasso"
      ]
    },
    {
      "cell_type": "code",
      "metadata": {
        "colab": {
          "base_uri": "https://localhost:8080/"
        },
        "id": "TKhQxojrKU0v",
        "outputId": "fff401c0-4022-411c-8fe0-fefc5b00d820"
      },
      "source": [
        "alpha_range = [0.001,0.005,0.01,0.05,0.1,0.5]\n",
        "for val in alpha_range:\n",
        "  X_train, X_test, y_train, y_test = sklearn.model_selection.train_test_split(X, Y, test_size=0.4)\n",
        "  regressor = linear_model.Lasso(alpha = 0.001)\n",
        "  regressor.fit(X_train,y_train)\n",
        "  print('Case : alpha = ' + str(val) + '\\n')\n",
        "  print('Coefficients: ', regressor.coef_)\n",
        "  print('Intercepts: ', regressor.intercept_)\n",
        "  y_predict = regressor.predict(X_test)\n",
        "  print('Mean squared error: %.8f'\n",
        "        % mean_squared_error(y_test, y_predict))\n",
        "  print('r2 value: %.8f \\n'\n",
        "        % r2_score(y_test, y_predict))"
      ],
      "execution_count": 15,
      "outputs": [
        {
          "output_type": "stream",
          "name": "stdout",
          "text": [
            "Case : alpha = 0.001\n",
            "\n",
            "Coefficients:  [ 8.04311317e+00 -2.19415756e-01 -4.59569760e-03  1.16655963e+00\n",
            "  1.73455096e+02 -1.54441692e+01]\n",
            "Intercepts:  [-18604.32085538]\n",
            "Mean squared error: 51.79887354\n",
            "r2 value: 0.69676559 \n",
            "\n",
            "Case : alpha = 0.005\n",
            "\n",
            "Coefficients:  [ 5.71921808e+00 -2.51733033e-01 -5.32497835e-03  1.12325203e+00\n",
            "  1.67774770e+02 -3.82060958e+01]\n",
            "Intercepts:  [-11015.88755435]\n",
            "Mean squared error: 57.61916120\n",
            "r2 value: 0.66523268 \n",
            "\n",
            "Case : alpha = 0.01\n",
            "\n",
            "Coefficients:  [ 5.32946056e+00 -2.97566876e-01 -5.31686884e-03  9.85127401e-01\n",
            "  2.03209065e+02 -1.01356934e+02]\n",
            "Intercepts:  [-3440.06247895]\n",
            "Mean squared error: 71.14676889\n",
            "r2 value: 0.56727100 \n",
            "\n",
            "Case : alpha = 0.05\n",
            "\n",
            "Coefficients:  [ 4.67603742e+00 -2.45405140e-01 -3.65881350e-03  1.08394233e+00\n",
            "  2.88281204e+02  8.76419995e+00]\n",
            "Intercepts:  [-17635.38341475]\n",
            "Mean squared error: 105.93420924\n",
            "r2 value: 0.49639010 \n",
            "\n",
            "Case : alpha = 0.1\n",
            "\n",
            "Coefficients:  [ 3.18790059e+00 -3.48467669e-01 -3.98345518e-03  1.16129340e+00\n",
            "  2.33133510e+02 -2.29152696e+00]\n",
            "Intercepts:  [-11917.24855819]\n",
            "Mean squared error: 119.63344141\n",
            "r2 value: 0.43275625 \n",
            "\n",
            "Case : alpha = 0.5\n",
            "\n",
            "Coefficients:  [ 6.88880109e+00 -2.68382456e-01 -5.39947198e-03  9.97107249e-01\n",
            "  2.03295518e+02 -5.68168623e+01]\n",
            "Intercepts:  [-11994.0956909]\n",
            "Mean squared error: 68.32813569\n",
            "r2 value: 0.58432753 \n",
            "\n"
          ]
        }
      ]
    },
    {
      "cell_type": "markdown",
      "metadata": {
        "id": "HPSr3c8Kk7wV"
      },
      "source": [
        "In Lasso, Highest r2 value is for alpha = 0.001 and lowest mean squared error is for alpha = 0.001 a good sign"
      ]
    },
    {
      "cell_type": "markdown",
      "metadata": {
        "id": "3f5RfYQHPuW6"
      },
      "source": [
        "#Q.2"
      ]
    },
    {
      "cell_type": "markdown",
      "metadata": {
        "id": "7vVKyTMPP90H"
      },
      "source": [
        "1. Download the dataset from above shared link."
      ]
    },
    {
      "cell_type": "code",
      "metadata": {
        "id": "g8YMH4U6PwVP"
      },
      "source": [
        "url2 = \"https://raw.githubusercontent.com/gyandevgupta/DS203_Assignment/master/haberman.data\""
      ],
      "execution_count": 16,
      "outputs": []
    },
    {
      "cell_type": "markdown",
      "metadata": {
        "id": "XHxEvF62QDtS"
      },
      "source": [
        "2. Load the dataset into your python program and do pre-processing (like separating features\n",
        "and class labels)."
      ]
    },
    {
      "cell_type": "code",
      "metadata": {
        "colab": {
          "base_uri": "https://localhost:8080/",
          "height": 206
        },
        "id": "aQ-Ws_axPyfQ",
        "outputId": "430196d9-d06e-4f50-a2e4-c6607680e295"
      },
      "source": [
        "df = pd.read_csv(url2, names = [\"Age of patient at the time of operation\",\"Patient year of operation (year -1900)\",\"Number of positive auxillary node\",\"Survival status\"])\n",
        "df.head()"
      ],
      "execution_count": 17,
      "outputs": [
        {
          "output_type": "execute_result",
          "data": {
            "text/html": [
              "<div>\n",
              "<style scoped>\n",
              "    .dataframe tbody tr th:only-of-type {\n",
              "        vertical-align: middle;\n",
              "    }\n",
              "\n",
              "    .dataframe tbody tr th {\n",
              "        vertical-align: top;\n",
              "    }\n",
              "\n",
              "    .dataframe thead th {\n",
              "        text-align: right;\n",
              "    }\n",
              "</style>\n",
              "<table border=\"1\" class=\"dataframe\">\n",
              "  <thead>\n",
              "    <tr style=\"text-align: right;\">\n",
              "      <th></th>\n",
              "      <th>Age of patient at the time of operation</th>\n",
              "      <th>Patient year of operation (year -1900)</th>\n",
              "      <th>Number of positive auxillary node</th>\n",
              "      <th>Survival status</th>\n",
              "    </tr>\n",
              "  </thead>\n",
              "  <tbody>\n",
              "    <tr>\n",
              "      <th>0</th>\n",
              "      <td>30</td>\n",
              "      <td>64</td>\n",
              "      <td>1</td>\n",
              "      <td>1</td>\n",
              "    </tr>\n",
              "    <tr>\n",
              "      <th>1</th>\n",
              "      <td>30</td>\n",
              "      <td>62</td>\n",
              "      <td>3</td>\n",
              "      <td>1</td>\n",
              "    </tr>\n",
              "    <tr>\n",
              "      <th>2</th>\n",
              "      <td>30</td>\n",
              "      <td>65</td>\n",
              "      <td>0</td>\n",
              "      <td>1</td>\n",
              "    </tr>\n",
              "    <tr>\n",
              "      <th>3</th>\n",
              "      <td>31</td>\n",
              "      <td>59</td>\n",
              "      <td>2</td>\n",
              "      <td>1</td>\n",
              "    </tr>\n",
              "    <tr>\n",
              "      <th>4</th>\n",
              "      <td>31</td>\n",
              "      <td>65</td>\n",
              "      <td>4</td>\n",
              "      <td>1</td>\n",
              "    </tr>\n",
              "  </tbody>\n",
              "</table>\n",
              "</div>"
            ],
            "text/plain": [
              "   Age of patient at the time of operation  ...  Survival status\n",
              "0                                       30  ...                1\n",
              "1                                       30  ...                1\n",
              "2                                       30  ...                1\n",
              "3                                       31  ...                1\n",
              "4                                       31  ...                1\n",
              "\n",
              "[5 rows x 4 columns]"
            ]
          },
          "metadata": {},
          "execution_count": 17
        }
      ]
    },
    {
      "cell_type": "code",
      "metadata": {
        "colab": {
          "base_uri": "https://localhost:8080/",
          "height": 363
        },
        "id": "MtCjrTZuTpBX",
        "outputId": "3a8813cf-8561-4feb-9295-deeecbf4bd2b"
      },
      "source": [
        "#dropping column\n",
        "X = df.drop(columns=[\"Survival status\"])\n",
        "X.sample(n=10)"
      ],
      "execution_count": 18,
      "outputs": [
        {
          "output_type": "execute_result",
          "data": {
            "text/html": [
              "<div>\n",
              "<style scoped>\n",
              "    .dataframe tbody tr th:only-of-type {\n",
              "        vertical-align: middle;\n",
              "    }\n",
              "\n",
              "    .dataframe tbody tr th {\n",
              "        vertical-align: top;\n",
              "    }\n",
              "\n",
              "    .dataframe thead th {\n",
              "        text-align: right;\n",
              "    }\n",
              "</style>\n",
              "<table border=\"1\" class=\"dataframe\">\n",
              "  <thead>\n",
              "    <tr style=\"text-align: right;\">\n",
              "      <th></th>\n",
              "      <th>Age of patient at the time of operation</th>\n",
              "      <th>Patient year of operation (year -1900)</th>\n",
              "      <th>Number of positive auxillary node</th>\n",
              "    </tr>\n",
              "  </thead>\n",
              "  <tbody>\n",
              "    <tr>\n",
              "      <th>266</th>\n",
              "      <td>65</td>\n",
              "      <td>64</td>\n",
              "      <td>0</td>\n",
              "    </tr>\n",
              "    <tr>\n",
              "      <th>245</th>\n",
              "      <td>63</td>\n",
              "      <td>60</td>\n",
              "      <td>1</td>\n",
              "    </tr>\n",
              "    <tr>\n",
              "      <th>50</th>\n",
              "      <td>41</td>\n",
              "      <td>69</td>\n",
              "      <td>8</td>\n",
              "    </tr>\n",
              "    <tr>\n",
              "      <th>148</th>\n",
              "      <td>52</td>\n",
              "      <td>69</td>\n",
              "      <td>0</td>\n",
              "    </tr>\n",
              "    <tr>\n",
              "      <th>124</th>\n",
              "      <td>50</td>\n",
              "      <td>63</td>\n",
              "      <td>13</td>\n",
              "    </tr>\n",
              "    <tr>\n",
              "      <th>133</th>\n",
              "      <td>50</td>\n",
              "      <td>64</td>\n",
              "      <td>0</td>\n",
              "    </tr>\n",
              "    <tr>\n",
              "      <th>241</th>\n",
              "      <td>62</td>\n",
              "      <td>62</td>\n",
              "      <td>6</td>\n",
              "    </tr>\n",
              "    <tr>\n",
              "      <th>138</th>\n",
              "      <td>51</td>\n",
              "      <td>64</td>\n",
              "      <td>7</td>\n",
              "    </tr>\n",
              "    <tr>\n",
              "      <th>274</th>\n",
              "      <td>67</td>\n",
              "      <td>63</td>\n",
              "      <td>1</td>\n",
              "    </tr>\n",
              "    <tr>\n",
              "      <th>82</th>\n",
              "      <td>45</td>\n",
              "      <td>67</td>\n",
              "      <td>1</td>\n",
              "    </tr>\n",
              "  </tbody>\n",
              "</table>\n",
              "</div>"
            ],
            "text/plain": [
              "     Age of patient at the time of operation  ...  Number of positive auxillary node\n",
              "266                                       65  ...                                  0\n",
              "245                                       63  ...                                  1\n",
              "50                                        41  ...                                  8\n",
              "148                                       52  ...                                  0\n",
              "124                                       50  ...                                 13\n",
              "133                                       50  ...                                  0\n",
              "241                                       62  ...                                  6\n",
              "138                                       51  ...                                  7\n",
              "274                                       67  ...                                  1\n",
              "82                                        45  ...                                  1\n",
              "\n",
              "[10 rows x 3 columns]"
            ]
          },
          "metadata": {},
          "execution_count": 18
        }
      ]
    },
    {
      "cell_type": "code",
      "metadata": {
        "colab": {
          "base_uri": "https://localhost:8080/",
          "height": 363
        },
        "id": "TMQ_oPqtUM7X",
        "outputId": "18b05696-6902-4282-daa9-cbc4ec946f43"
      },
      "source": [
        "Y = df[[\"Survival status\"]]\n",
        "Y.sample(n=10)"
      ],
      "execution_count": 19,
      "outputs": [
        {
          "output_type": "execute_result",
          "data": {
            "text/html": [
              "<div>\n",
              "<style scoped>\n",
              "    .dataframe tbody tr th:only-of-type {\n",
              "        vertical-align: middle;\n",
              "    }\n",
              "\n",
              "    .dataframe tbody tr th {\n",
              "        vertical-align: top;\n",
              "    }\n",
              "\n",
              "    .dataframe thead th {\n",
              "        text-align: right;\n",
              "    }\n",
              "</style>\n",
              "<table border=\"1\" class=\"dataframe\">\n",
              "  <thead>\n",
              "    <tr style=\"text-align: right;\">\n",
              "      <th></th>\n",
              "      <th>Survival status</th>\n",
              "    </tr>\n",
              "  </thead>\n",
              "  <tbody>\n",
              "    <tr>\n",
              "      <th>231</th>\n",
              "      <td>2</td>\n",
              "    </tr>\n",
              "    <tr>\n",
              "      <th>279</th>\n",
              "      <td>1</td>\n",
              "    </tr>\n",
              "    <tr>\n",
              "      <th>24</th>\n",
              "      <td>2</td>\n",
              "    </tr>\n",
              "    <tr>\n",
              "      <th>149</th>\n",
              "      <td>1</td>\n",
              "    </tr>\n",
              "    <tr>\n",
              "      <th>212</th>\n",
              "      <td>1</td>\n",
              "    </tr>\n",
              "    <tr>\n",
              "      <th>179</th>\n",
              "      <td>1</td>\n",
              "    </tr>\n",
              "    <tr>\n",
              "      <th>3</th>\n",
              "      <td>1</td>\n",
              "    </tr>\n",
              "    <tr>\n",
              "      <th>104</th>\n",
              "      <td>1</td>\n",
              "    </tr>\n",
              "    <tr>\n",
              "      <th>262</th>\n",
              "      <td>1</td>\n",
              "    </tr>\n",
              "    <tr>\n",
              "      <th>5</th>\n",
              "      <td>1</td>\n",
              "    </tr>\n",
              "  </tbody>\n",
              "</table>\n",
              "</div>"
            ],
            "text/plain": [
              "     Survival status\n",
              "231                2\n",
              "279                1\n",
              "24                 2\n",
              "149                1\n",
              "212                1\n",
              "179                1\n",
              "3                  1\n",
              "104                1\n",
              "262                1\n",
              "5                  1"
            ]
          },
          "metadata": {},
          "execution_count": 19
        }
      ]
    },
    {
      "cell_type": "code",
      "metadata": {
        "id": "28lwJVHAUoHY"
      },
      "source": [
        "X = np.array(X)\n",
        "Y = np.array(Y)"
      ],
      "execution_count": 20,
      "outputs": []
    },
    {
      "cell_type": "markdown",
      "metadata": {
        "id": "X1Chs6VvUjlo"
      },
      "source": [
        "3. Split loaded dataset into train and test dataset by keeping 80% samples in train dataset\n",
        "and remaining 20% samples in the test dataset.\n"
      ]
    },
    {
      "cell_type": "code",
      "metadata": {
        "id": "jqmH2LSvUhsv"
      },
      "source": [
        "X_train, X_test, y_train, y_test = sklearn.model_selection.train_test_split(X, Y, test_size=0.2)"
      ],
      "execution_count": 21,
      "outputs": []
    },
    {
      "cell_type": "markdown",
      "metadata": {
        "id": "DdLnGuKyUwco"
      },
      "source": [
        "4. Now train logistic regression model on train dataset (note that the last column (Survival\n",
        "status) is the class label)."
      ]
    },
    {
      "cell_type": "code",
      "metadata": {
        "colab": {
          "base_uri": "https://localhost:8080/"
        },
        "id": "aEKTCdYwUrtG",
        "outputId": "d4e7d48f-229f-41de-c25e-9ece0df06f30"
      },
      "source": [
        "regressor = linear_model.LogisticRegression()\n",
        "regressor.fit(X_train,y_train.ravel())"
      ],
      "execution_count": 22,
      "outputs": [
        {
          "output_type": "execute_result",
          "data": {
            "text/plain": [
              "LogisticRegression(C=1.0, class_weight=None, dual=False, fit_intercept=True,\n",
              "                   intercept_scaling=1, l1_ratio=None, max_iter=100,\n",
              "                   multi_class='auto', n_jobs=None, penalty='l2',\n",
              "                   random_state=None, solver='lbfgs', tol=0.0001, verbose=0,\n",
              "                   warm_start=False)"
            ]
          },
          "metadata": {},
          "execution_count": 22
        }
      ]
    },
    {
      "cell_type": "markdown",
      "metadata": {
        "id": "0fvjS9nMVR30"
      },
      "source": [
        "5. Report coefficients and intercept of the trained logistic model."
      ]
    },
    {
      "cell_type": "code",
      "metadata": {
        "colab": {
          "base_uri": "https://localhost:8080/"
        },
        "id": "UFxCCV0wVP1B",
        "outputId": "b00477b4-6ae2-4bc9-a593-91614ba69a42"
      },
      "source": [
        "print('Coefficients: ', regressor.coef_)\n",
        "print('Intercepts: ', regressor.intercept_)"
      ],
      "execution_count": 23,
      "outputs": [
        {
          "output_type": "stream",
          "name": "stdout",
          "text": [
            "Coefficients:  [[0.0135091  0.02266219 0.09499242]]\n",
            "Intercepts:  [-3.62118924]\n"
          ]
        }
      ]
    },
    {
      "cell_type": "markdown",
      "metadata": {
        "id": "LN8BwWbaVfSl"
      },
      "source": [
        "6. Predict the survival status of patients in the test dataset.\n"
      ]
    },
    {
      "cell_type": "code",
      "metadata": {
        "id": "6YbC8y2dVhd_"
      },
      "source": [
        "y_predict = regressor.predict(X_test)"
      ],
      "execution_count": 24,
      "outputs": []
    },
    {
      "cell_type": "markdown",
      "metadata": {
        "id": "9clJFvevVtuU"
      },
      "source": [
        "7. Compute classification error using predicted survival status and true survival status as\n",
        "follows \n",
        "where m is the number of samples in the test dataset, yˆs and ys are the predicted label and\n",
        "the true label for the sample ‘s\n",
        "0 of the test dataset, respectively."
      ]
    },
    {
      "cell_type": "code",
      "metadata": {
        "colab": {
          "base_uri": "https://localhost:8080/"
        },
        "id": "CNI75f7RXNUJ",
        "outputId": "39e70585-63ef-406c-80de-5758080546d8"
      },
      "source": [
        "score = regressor.score(X_test, y_test)\n",
        "print(\"Classification error : \" + str(score))"
      ],
      "execution_count": 25,
      "outputs": [
        {
          "output_type": "stream",
          "name": "stdout",
          "text": [
            "Classification error : 0.7096774193548387\n"
          ]
        }
      ]
    },
    {
      "cell_type": "markdown",
      "metadata": {
        "id": "C61t1zI5ZZCZ"
      },
      "source": [
        "8. Repeat Step 4-7 for following train and test split: 60:40, 70:30, and 90:10. Report classi\u0002fication error for each split."
      ]
    },
    {
      "cell_type": "code",
      "metadata": {
        "colab": {
          "base_uri": "https://localhost:8080/"
        },
        "id": "PAW17hS2U48R",
        "outputId": "04bce2d6-fec6-4637-8234-3d6b3504c380"
      },
      "source": [
        "test_size_range = [0.4,0.3,0.1]\n",
        "for val in test_size_range:\n",
        "  X_train, X_test, y_train, y_test = sklearn.model_selection.train_test_split(X, Y, test_size=0.2)  \n",
        "  regressor = linear_model.LogisticRegression()\n",
        "  regressor.fit(X_train,y_train.ravel())\n",
        "  print('test size ratio :' +str(val) +\"\\n\")\n",
        "  print('Coefficients: ', regressor.coef_)\n",
        "  print('Intercepts: ', regressor.intercept_)\n",
        "  y_predict = regressor.predict(X_test)\n",
        "  score = regressor.score(X_test, y_test)\n",
        "  print(\"Classification error : \" + str(score)+\"\\n\")"
      ],
      "execution_count": 26,
      "outputs": [
        {
          "output_type": "stream",
          "name": "stdout",
          "text": [
            "test size ratio :0.4\n",
            "\n",
            "Coefficients:  [[ 0.01917302 -0.01738662  0.0944041 ]]\n",
            "Intercepts:  [-1.36275343]\n",
            "Classification error : 0.7580645161290323\n",
            "\n",
            "test size ratio :0.3\n",
            "\n",
            "Coefficients:  [[ 0.00871382 -0.00914001  0.09156632]]\n",
            "Intercepts:  [-1.31729939]\n",
            "Classification error : 0.7419354838709677\n",
            "\n",
            "test size ratio :0.1\n",
            "\n",
            "Coefficients:  [[ 0.01432302 -0.00173196  0.08203292]]\n",
            "Intercepts:  [-2.05916264]\n",
            "Classification error : 0.7096774193548387\n",
            "\n"
          ]
        }
      ]
    },
    {
      "cell_type": "markdown",
      "metadata": {
        "id": "mupqhhlblhRg"
      },
      "source": [
        "Here, the classification error is highest for test ratio 0.4"
      ]
    }
  ]
}